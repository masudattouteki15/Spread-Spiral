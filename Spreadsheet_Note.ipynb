{
 "cells": [
  {
   "cell_type": "markdown",
   "metadata": {},
   "source": [
    "##### Spreadsheet_Note.ipynb"
   ]
  },
  {
   "cell_type": "markdown",
   "metadata": {},
   "source": [
    "- コンテキストメニューを開く"
   ]
  },
  {
   "cell_type": "markdown",
   "metadata": {},
   "source": [
    "|header1|header2|header3|\n",
    "|:--|:-:|--:|\n",
    "|  ***GSS***　  |  Mac  |  ⌘＋Shift＋¥  |\n",
    "|  ^  |  Win |  Shift＋F10  |\n",
    "|  ***Excel***　  |  >  |    |"
   ]
  },
  {
   "cell_type": "markdown",
   "metadata": {},
   "source": [
    "- ショートカットのヘルプを開く"
   ]
  },
  {
   "cell_type": "markdown",
   "metadata": {},
   "source": [
    "|header1|header2|header3|\n",
    "|:--|:-:|--:|\n",
    "|  ***GSS***　  |  Mac  |  ⌘＋/  |\n",
    "|  ^  |  Win |    |\n",
    "|  ***Excel***　  |  >  |    |"
   ]
  },
  {
   "cell_type": "markdown",
   "metadata": {},
   "source": [
    "- 値だけ貼り付け"
   ]
  },
  {
   "cell_type": "markdown",
   "metadata": {},
   "source": [
    "|header1|header2|header3|\n",
    "|:--|:-:|--:|\n",
    "|  ***GSS***　  |  Mac  |  ⌘＋Shift＋V  |\n",
    "|  ^  |  Win |  Ctrl＋Shift＋V |\n",
    "|  ***Excel***　  |  >  |    |"
   ]
  },
  {
   "cell_type": "markdown",
   "metadata": {},
   "source": [
    "- 書式だけ貼り付け"
   ]
  },
  {
   "cell_type": "markdown",
   "metadata": {},
   "source": [
    "|header1|header2|header3|\n",
    "|:--|:-:|--:|\n",
    "|  ***GSS***　  |  Mac  |  ⌘＋option＋V  |\n",
    "|  ^  |  Win |  Ctrl＋Alt＋V  |\n",
    "|  ***Excel***　  |  >  |    |"
   ]
  },
  {
   "cell_type": "markdown",
   "metadata": {},
   "source": [
    "- テキストを左揃えにする"
   ]
  },
  {
   "cell_type": "markdown",
   "metadata": {},
   "source": [
    "|header1|header2|header3|\n",
    "|:--|:-:|--:|\n",
    "|  ***GSS***　  |  Mac  |  ⌘＋Shift＋L  |\n",
    "|  ^  |  Win |  Ctrl＋Shift＋L  |\n",
    "|  ***Excel***　  |  >  |    |"
   ]
  },
  {
   "cell_type": "markdown",
   "metadata": {},
   "source": [
    "- テキストを中央揃えにする"
   ]
  },
  {
   "cell_type": "markdown",
   "metadata": {},
   "source": [
    "|header1|header2|header3|\n",
    "|:--|:-:|--:|\n",
    "|  ***GSS***　  |  Mac  |  ⌘＋Shift＋E  |\n",
    "|  ^  |  Win |  Ctrl＋Shift＋E  |\n",
    "|  ***Excel***　  |  >  |    |"
   ]
  },
  {
   "cell_type": "markdown",
   "metadata": {},
   "source": [
    "- テキストを右揃えにする"
   ]
  },
  {
   "cell_type": "markdown",
   "metadata": {},
   "source": [
    "|header1|header2|header3|\n",
    "|:--|:-:|--:|\n",
    "|  ***GSS***　  |  Mac  |  ⌘＋Shift＋R  |\n",
    "|  ^  |  Win |  Ctrl＋Shift＋ R  |\n",
    "|  ***Excel***　  |  >  |    |"
   ]
  },
  {
   "cell_type": "markdown",
   "metadata": {},
   "source": [
    "- シートリストを表示"
   ]
  },
  {
   "cell_type": "markdown",
   "metadata": {},
   "source": [
    "|header1|header2|header3|\n",
    "|:--|:-:|--:|\n",
    "|  ***GSS***　  |  Mac  |  Shift＋option＋K  |\n",
    "|  ^  |  Win |  Shift＋Alt＋K|\n",
    "|  ***Excel***　  |  >  |    |"
   ]
  },
  {
   "cell_type": "markdown",
   "metadata": {},
   "source": [
    "- 新しいシートを挿入"
   ]
  },
  {
   "cell_type": "markdown",
   "metadata": {},
   "source": [
    "|header1|header2|header3|\n",
    "|:--|:-:|--:|\n",
    "|  ***GSS***　  |  共通  |  Shift＋F11  |\n",
    "|  ***Excel***　  |  >  |    |"
   ]
  },
  {
   "cell_type": "markdown",
   "metadata": {},
   "source": [
    "- 数式のセル参照に絶対参照、相対参照を適用させる"
   ]
  },
  {
   "cell_type": "markdown",
   "metadata": {},
   "source": [
    "|header1|header2|header3|\n",
    "|:--|:-:|--:|\n",
    "|  ***GSS***　  |  共通  |  F4  |\n",
    "|  ***Excel***　  |  >  |    |"
   ]
  },
  {
   "cell_type": "markdown",
   "metadata": {},
   "source": [
    "- メモを挿入・編集"
   ]
  },
  {
   "cell_type": "markdown",
   "metadata": {},
   "source": [
    "|header1|header2|header3|\n",
    "|:--|:-:|--:|\n",
    "|  ***GSS***　  |  共通  |  Shift＋F12  |\n",
    "|  ***Excel***　  |  >  |    |"
   ]
  },
  {
   "cell_type": "markdown",
   "metadata": {},
   "source": [
    "- 関数の詳細を見る・隠す"
   ]
  },
  {
   "cell_type": "markdown",
   "metadata": {},
   "source": [
    "|header1|header2|header3|\n",
    "|:--|:-:|--:|\n",
    "|  ***GSS***　  |  共通  |  F1  |\n",
    "|  ***Excel***　  |  >  |    |"
   ]
  },
  {
   "cell_type": "markdown",
   "metadata": {},
   "source": [
    "- 全ての数式を表示"
   ]
  },
  {
   "cell_type": "markdown",
   "metadata": {},
   "source": [
    "|header1|header2|header3|\n",
    "|:--|:-:|--:|\n",
    "|  ***GSS***　  |  共通  |  Ctrl＋~  |\n",
    "|  ***Excel***　  |  >  |    |"
   ]
  },
  {
   "cell_type": "markdown",
   "metadata": {},
   "source": [
    "- 2020年9月26日：Marioという名前の選手のゴールについて、team1, team2 , player を表示する。"
   ]
  },
  {
   "cell_type": "markdown",
   "metadata": {},
   "source": [
    "|header1|header2|header3|\n",
    "|:--|:-:|--:|\n",
    "|  ***GSS***　  |  Mac  |  ⌘＋Shift＋¥  |\n",
    "|  ^  |  Win |  Shift＋F10  |\n",
    "|  ***Excel***　  |  >  |    |"
   ]
  },
  {
   "cell_type": "markdown",
   "metadata": {},
   "source": [
    "- 2020年9月26日：映画「エイリアン」'Alien'の出演者リストを表示。（movie、casting、actor）"
   ]
  },
  {
   "cell_type": "markdown",
   "metadata": {},
   "source": []
  },
  {
   "cell_type": "markdown",
   "metadata": {},
   "source": [
    "- 2020年9月26日：'Harrison Ford'  ハリソン＝フォードが出演した映画のリストを表示する。（movie、casting、actor）"
   ]
  },
  {
   "cell_type": "markdown",
   "metadata": {},
   "source": []
  },
  {
   "cell_type": "markdown",
   "metadata": {},
   "source": [
    "- 2020年9月26日：'Art Garfunkel' アート＝ガーファンクルと一緒に仕事をした人々をすべて表示。（movie、casting、actor）"
   ]
  },
  {
   "cell_type": "markdown",
   "metadata": {},
   "source": []
  },
  {
   "cell_type": "markdown",
   "metadata": {},
   "source": [
    "- 2020年9月26日：'Art Garfunkel' アート＝ガーファンクルと一緒に仕事をした人々をすべて表示。　にて、監督も含めたもの。（movie、casting、actor）"
   ]
  },
  {
   "cell_type": "markdown",
   "metadata": {},
   "source": []
  },
  {
   "cell_type": "markdown",
   "metadata": {},
   "source": [
    "- 2020年9月28日：オートコミットがOFFのとき、2多重以上でINSERTやUPDATEを行った後は、COMMITを明記しなければならない。"
   ]
  },
  {
   "cell_type": "markdown",
   "metadata": {},
   "source": []
  },
  {
   "cell_type": "markdown",
   "metadata": {},
   "source": [
    "##### SQLite\n",
    "- SQLiteはローカルのファイルを直接データベースとして扱うので、複数のサーバーとネットワークごしに接続するのには不向きです。Webサーバーを複数台起動する場合などはMySQLやPostgreSQLなどを使うほうが良いでしょう。"
   ]
  }
 ],
 "metadata": {
  "kernelspec": {
   "display_name": "Python 3",
   "language": "python",
   "name": "python3"
  },
  "language_info": {
   "codemirror_mode": {
    "name": "ipython",
    "version": 3
   },
   "file_extension": ".py",
   "mimetype": "text/x-python",
   "name": "python",
   "nbconvert_exporter": "python",
   "pygments_lexer": "ipython3",
   "version": "3.7.2"
  }
 },
 "nbformat": 4,
 "nbformat_minor": 2
}
